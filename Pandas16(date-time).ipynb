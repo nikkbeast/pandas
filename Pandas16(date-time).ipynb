{
 "cells": [
  {
   "cell_type": "code",
   "execution_count": 1,
   "id": "3cf359b9",
   "metadata": {},
   "outputs": [],
   "source": [
    "import pandas as pd"
   ]
  },
  {
   "cell_type": "markdown",
   "id": "d4f1f6c4",
   "metadata": {},
   "source": [
    "# DATE-TIME-INDEX"
   ]
  },
  {
   "cell_type": "code",
   "execution_count": 6,
   "id": "55e2d722",
   "metadata": {},
   "outputs": [
    {
     "name": "stderr",
     "output_type": "stream",
     "text": [
      "C:\\Users\\Nikhil Gupta\\AppData\\Local\\Temp\\ipykernel_7532\\1156716181.py:1: UserWarning: Parsing dates in DD/MM/YYYY format when dayfirst=False (the default) was specified. This may lead to inconsistently parsed dates! Specify a format to ensure consistent parsing.\n",
      "  df =pd.read_csv('C:\\\\Users\\\\Nikhil Gupta\\\\ML_Pandas\\\\Top-10-IT-Companies-in-India.csv',parse_dates = ['Date'])\n"
     ]
    },
    {
     "data": {
      "text/html": [
       "<div>\n",
       "<style scoped>\n",
       "    .dataframe tbody tr th:only-of-type {\n",
       "        vertical-align: middle;\n",
       "    }\n",
       "\n",
       "    .dataframe tbody tr th {\n",
       "        vertical-align: top;\n",
       "    }\n",
       "\n",
       "    .dataframe thead th {\n",
       "        text-align: right;\n",
       "    }\n",
       "</style>\n",
       "<table border=\"1\" class=\"dataframe\">\n",
       "  <thead>\n",
       "    <tr style=\"text-align: right;\">\n",
       "      <th></th>\n",
       "      <th>Date</th>\n",
       "      <th>Number</th>\n",
       "      <th>Top 10 IT Companies in India</th>\n",
       "      <th>Time</th>\n",
       "    </tr>\n",
       "  </thead>\n",
       "  <tbody>\n",
       "    <tr>\n",
       "      <th>0</th>\n",
       "      <td>2003-01-02</td>\n",
       "      <td>1</td>\n",
       "      <td>TCS</td>\n",
       "      <td>8</td>\n",
       "    </tr>\n",
       "    <tr>\n",
       "      <th>1</th>\n",
       "      <td>2003-01-02</td>\n",
       "      <td>2</td>\n",
       "      <td>Infosys</td>\n",
       "      <td>9</td>\n",
       "    </tr>\n",
       "    <tr>\n",
       "      <th>2</th>\n",
       "      <td>2003-01-02</td>\n",
       "      <td>3</td>\n",
       "      <td>Tech Mahindra</td>\n",
       "      <td>12</td>\n",
       "    </tr>\n",
       "    <tr>\n",
       "      <th>3</th>\n",
       "      <td>1993-03-29</td>\n",
       "      <td>4</td>\n",
       "      <td>Wipro</td>\n",
       "      <td>34</td>\n",
       "    </tr>\n",
       "    <tr>\n",
       "      <th>4</th>\n",
       "      <td>2003-01-02</td>\n",
       "      <td>5</td>\n",
       "      <td>HCL Technologies</td>\n",
       "      <td>5</td>\n",
       "    </tr>\n",
       "    <tr>\n",
       "      <th>5</th>\n",
       "      <td>2000-02-20</td>\n",
       "      <td>6</td>\n",
       "      <td>L&amp;T Infotech</td>\n",
       "      <td>5</td>\n",
       "    </tr>\n",
       "    <tr>\n",
       "      <th>6</th>\n",
       "      <td>2007-12-12</td>\n",
       "      <td>7</td>\n",
       "      <td>Mindtree</td>\n",
       "      <td>6</td>\n",
       "    </tr>\n",
       "    <tr>\n",
       "      <th>7</th>\n",
       "      <td>1980-06-07</td>\n",
       "      <td>8</td>\n",
       "      <td>Mphasis</td>\n",
       "      <td>9</td>\n",
       "    </tr>\n",
       "    <tr>\n",
       "      <th>8</th>\n",
       "      <td>1999-01-31</td>\n",
       "      <td>9</td>\n",
       "      <td>Oracle Financial Services</td>\n",
       "      <td>7</td>\n",
       "    </tr>\n",
       "    <tr>\n",
       "      <th>9</th>\n",
       "      <td>1997-03-05</td>\n",
       "      <td>10</td>\n",
       "      <td>Rotla India</td>\n",
       "      <td>2</td>\n",
       "    </tr>\n",
       "  </tbody>\n",
       "</table>\n",
       "</div>"
      ],
      "text/plain": [
       "        Date  Number Top 10 IT Companies in India  Time\n",
       "0 2003-01-02       1                          TCS     8\n",
       "1 2003-01-02       2                      Infosys     9\n",
       "2 2003-01-02       3                Tech Mahindra    12\n",
       "3 1993-03-29       4                        Wipro    34\n",
       "4 2003-01-02       5             HCL Technologies     5\n",
       "5 2000-02-20       6                 L&T Infotech     5\n",
       "6 2007-12-12       7                     Mindtree     6\n",
       "7 1980-06-07       8                      Mphasis     9\n",
       "8 1999-01-31       9    Oracle Financial Services     7\n",
       "9 1997-03-05      10                  Rotla India     2"
      ]
     },
     "execution_count": 6,
     "metadata": {},
     "output_type": "execute_result"
    }
   ],
   "source": [
    "df =pd.read_csv('C:\\\\Users\\\\Nikhil Gupta\\\\ML_Pandas\\\\Top-10-IT-Companies-in-India.csv',parse_dates = ['Date'])\n",
    "df"
   ]
  },
  {
   "cell_type": "code",
   "execution_count": 7,
   "id": "cb712da5",
   "metadata": {},
   "outputs": [
    {
     "data": {
      "text/plain": [
       "pandas._libs.tslibs.timestamps.Timestamp"
      ]
     },
     "execution_count": 7,
     "metadata": {},
     "output_type": "execute_result"
    }
   ],
   "source": [
    "type(df.Date[0])"
   ]
  },
  {
   "cell_type": "code",
   "execution_count": null,
   "id": "0081b894",
   "metadata": {},
   "outputs": [],
   "source": []
  }
 ],
 "metadata": {
  "kernelspec": {
   "display_name": "Python 3 (ipykernel)",
   "language": "python",
   "name": "python3"
  },
  "language_info": {
   "codemirror_mode": {
    "name": "ipython",
    "version": 3
   },
   "file_extension": ".py",
   "mimetype": "text/x-python",
   "name": "python",
   "nbconvert_exporter": "python",
   "pygments_lexer": "ipython3",
   "version": "3.11.4"
  }
 },
 "nbformat": 4,
 "nbformat_minor": 5
}
